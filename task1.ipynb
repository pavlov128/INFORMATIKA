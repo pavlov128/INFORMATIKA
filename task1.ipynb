{
 "cells": [
  {
   "cell_type": "code",
   "execution_count": 2,
   "metadata": {},
   "outputs": [
    {
     "name": "stdout",
     "output_type": "stream",
     "text": [
      "x y z w\n",
      "0 0 1 1\n",
      "0 1 0 1\n",
      "1 1 0 1\n"
     ]
    }
   ],
   "source": [
    "# Тип 2 № 15618\n",
    "# https://inf-ege.sdamgia.ru/problem?id=15618\n",
    "\n",
    "\n",
    "print(\"x y z w\")\n",
    "for x in range(0, 2):\n",
    "    for y in range(0, 2):\n",
    "        for z in range(0, 2):\n",
    "            for w in range(0, 2):\n",
    "                if (((x and not (y)) or (y == z)) or not (w)) == 0:\n",
    "                    print(x, y, z, w)\n",
    "                    \n"
   ]
  },
  {
   "cell_type": "code",
   "execution_count": 2,
   "metadata": {},
   "outputs": [
    {
     "name": "stdout",
     "output_type": "stream",
     "text": [
      "{'w': 1, 'z': 1, 'y': 0, 'x': 0}\n"
     ]
    }
   ],
   "source": [
    "import itertools as it\n",
    "\n",
    "\n",
    "\n",
    "\n",
    "def equation(x, y, z, w):\n",
    "    return (((x and not (y)) or (y == z)) or not (w))\n",
    "\n",
    "# for p in it.permutations('xyzw'):\n",
    "#     print(*p)\n",
    "# a = tuple(s for s in range(1,10))\n",
    "# b = [s for s in range(1,10)]\n",
    "# b = [s for s in range(1,10)]\n",
    "# print(a)\n",
    "\n",
    "\n",
    "for a, b, c, d, e in it.product([0, 1], repeat=5):\n",
    "    table = ((a, 0, c, e, 0),\n",
    "             (1, 0, d, 0, 0),\n",
    "             (1, b, 0, 0, 0))\n",
    "    # print(*table)\n",
    "    if len(table) == len(set(table)):\n",
    "        # print(*table)\n",
    "        for p in it.permutations('xyzw'):\n",
    "            if all(equation(**dict(zip(p, r))) == r[-1] for r in table):\n",
    "                print(dict(zip(p,  table[-1])))\n",
    "                # print(p)"
   ]
  },
  {
   "cell_type": "code",
   "execution_count": 3,
   "metadata": {},
   "outputs": [
    {
     "ename": "SyntaxError",
     "evalue": "invalid syntax (1003587957.py, line 3)",
     "output_type": "error",
     "traceback": [
      "\u001b[1;36m  Cell \u001b[1;32mIn[3], line 3\u001b[1;36m\u001b[0m\n\u001b[1;33m    if\u001b[0m\n\u001b[1;37m      ^\u001b[0m\n\u001b[1;31mSyntaxError\u001b[0m\u001b[1;31m:\u001b[0m invalid syntax\n"
     ]
    }
   ],
   "source": [
    "for i in range(1, 34):\n",
    "    a = 33 % i\n",
    "    if\n",
    "\n",
    "    print(f\"i = {i}. a = {a}.\")\n"
   ]
  },
  {
   "cell_type": "code",
   "execution_count": 4,
   "metadata": {},
   "outputs": [
    {
     "name": "stdout",
     "output_type": "stream",
     "text": [
      "4\n",
      "7\n",
      "12\n",
      "19\n"
     ]
    }
   ],
   "source": [
    "def f(x, y):\n",
    "    return x*x + y\n",
    "\n",
    "\n",
    "for i in range(1, 5):\n",
    "    print(f(i, 3))"
   ]
  }
 ],
 "metadata": {
  "kernelspec": {
   "display_name": "Python 3",
   "language": "python",
   "name": "python3"
  },
  "language_info": {
   "codemirror_mode": {
    "name": "ipython",
    "version": 3
   },
   "file_extension": ".py",
   "mimetype": "text/x-python",
   "name": "python",
   "nbconvert_exporter": "python",
   "pygments_lexer": "ipython3",
   "version": "3.12.6"
  },
  "orig_nbformat": 4
 },
 "nbformat": 4,
 "nbformat_minor": 2
}
