{
 "cells": [
  {
   "cell_type": "code",
   "execution_count": 15,
   "metadata": {},
   "outputs": [
    {
     "name": "stdout",
     "output_type": "stream",
     "text": [
      "x y z w\n",
      "0 0 1 1\n",
      "0 1 0 1\n",
      "1 1 0 1\n"
     ]
    }
   ],
   "source": [
    "# Тип 2 № 15618\n",
    "# https://inf-ege.sdamgia.ru/problem?id=15618\n",
    "\n",
    "\n",
    "print(\"x y z w\")\n",
    "for x in range(0, 2):\n",
    "    for y in range(0, 2):\n",
    "        for z in range(0, 2):\n",
    "            for w in range(0, 2):\n",
    "                if (((x and not (y)) or (y == z)) or not (w)) == 0:\n",
    "                    print(x, y, z, w)\n",
    "                    \n",
    "\n"
   ]
  },
  {
   "cell_type": "code",
   "execution_count": 7,
   "metadata": {},
   "outputs": [
    {
     "name": "stdout",
     "output_type": "stream",
     "text": [
      "(0, 0, 0, 0, 0) (1, 0, 1, 0, 0) (1, 0, 0, 0, 0)\n",
      "(0, 0, 0, 1, 0) (1, 0, 1, 0, 0) (1, 0, 0, 0, 0)\n",
      "(0, 0, 1, 0, 0) (1, 0, 1, 0, 0) (1, 0, 0, 0, 0)\n",
      "(0, 0, 1, 1, 0) (1, 0, 1, 0, 0) (1, 0, 0, 0, 0)\n",
      "(0, 0, 0, 0, 0) (1, 0, 0, 0, 0) (1, 1, 0, 0, 0)\n",
      "(0, 0, 0, 1, 0) (1, 0, 0, 0, 0) (1, 1, 0, 0, 0)\n",
      "(0, 0, 0, 0, 0) (1, 0, 1, 0, 0) (1, 1, 0, 0, 0)\n",
      "(0, 0, 0, 1, 0) (1, 0, 1, 0, 0) (1, 1, 0, 0, 0)\n",
      "(0, 0, 1, 0, 0) (1, 0, 0, 0, 0) (1, 1, 0, 0, 0)\n",
      "(0, 0, 1, 1, 0) (1, 0, 0, 0, 0) (1, 1, 0, 0, 0)\n",
      "(0, 0, 1, 0, 0) (1, 0, 1, 0, 0) (1, 1, 0, 0, 0)\n",
      "(0, 0, 1, 1, 0) (1, 0, 1, 0, 0) (1, 1, 0, 0, 0)\n",
      "(1, 0, 0, 1, 0) (1, 0, 1, 0, 0) (1, 0, 0, 0, 0)\n",
      "(1, 0, 1, 1, 0) (1, 0, 1, 0, 0) (1, 0, 0, 0, 0)\n",
      "(1, 0, 0, 1, 0) (1, 0, 0, 0, 0) (1, 1, 0, 0, 0)\n",
      "(1, 0, 0, 0, 0) (1, 0, 1, 0, 0) (1, 1, 0, 0, 0)\n",
      "(1, 0, 0, 1, 0) (1, 0, 1, 0, 0) (1, 1, 0, 0, 0)\n",
      "(1, 0, 1, 0, 0) (1, 0, 0, 0, 0) (1, 1, 0, 0, 0)\n",
      "(1, 0, 1, 1, 0) (1, 0, 0, 0, 0) (1, 1, 0, 0, 0)\n",
      "(1, 0, 1, 1, 0) (1, 0, 1, 0, 0) (1, 1, 0, 0, 0)\n"
     ]
    }
   ],
   "source": [
    "import itertools as it\n",
    "\n",
    "\n",
    "def equation(x, y, z, w):\n",
    "    return (((x and not (y)) or (y == z)) or not (w))\n",
    "\n",
    "# for p in it.permutations('xyzw'):\n",
    "#     print(*p)\n",
    "# a = tuple(s for s in range(1,10))\n",
    "# b = [s for s in range(1,10)]\n",
    "# b = [s for s in range(1,10)]\n",
    "# print(a)\n",
    "\n",
    "\n",
    "for a, b, c, d, e in it.product([0, 1], repeat=5):\n",
    "    table = ((a, 0, c, e, 0),\n",
    "             (1, 0, d, 0, 0),\n",
    "             (1, b, 0, 0, 0))\n",
    "    # print(*table)\n",
    "    if len(table) == len(set(table)):\n",
    "        # print(*table)\n",
    "        for p in it.permutations('xyzw'):\n",
    "            if all(equation(**dict(zip(p, r))) == r[-1] for r in table):\n",
    "                print(dict(zip(p,  table[-1])))\n",
    "                print(p)"
   ]
  },
  {
   "cell_type": "code",
   "execution_count": 2,
   "metadata": {},
   "outputs": [
    {
     "name": "stdout",
     "output_type": "stream",
     "text": [
      "i = 1. a = 0.\n",
      "i = 2. a = 1.\n",
      "i = 3. a = 0.\n",
      "i = 4. a = 1.\n",
      "i = 5. a = 3.\n",
      "i = 6. a = 3.\n",
      "i = 7. a = 5.\n",
      "i = 8. a = 1.\n",
      "i = 9. a = 6.\n",
      "i = 10. a = 3.\n",
      "i = 11. a = 0.\n",
      "i = 12. a = 9.\n",
      "i = 13. a = 7.\n",
      "i = 14. a = 5.\n",
      "i = 15. a = 3.\n",
      "i = 16. a = 1.\n",
      "i = 17. a = 16.\n",
      "i = 18. a = 15.\n",
      "i = 19. a = 14.\n",
      "i = 20. a = 13.\n",
      "i = 21. a = 12.\n",
      "i = 22. a = 11.\n",
      "i = 23. a = 10.\n",
      "i = 24. a = 9.\n",
      "i = 25. a = 8.\n",
      "i = 26. a = 7.\n",
      "i = 27. a = 6.\n",
      "i = 28. a = 5.\n",
      "i = 29. a = 4.\n",
      "i = 30. a = 3.\n",
      "i = 31. a = 2.\n",
      "i = 32. a = 1.\n",
      "i = 33. a = 0.\n"
     ]
    }
   ],
   "source": [
    "for i in range(1, 34):\n",
    "    a = 33 % i\n",
    "    if\n",
    "\n",
    "    print(f\"i = {i}. a = {a}.\")\n"
   ]
  },
  {
   "cell_type": "code",
   "execution_count": 4,
   "metadata": {},
   "outputs": [
    {
     "name": "stdout",
     "output_type": "stream",
     "text": [
      "4\n",
      "7\n",
      "12\n",
      "19\n"
     ]
    }
   ],
   "source": [
    "def f(x, y):\n",
    "    return x*x + y\n",
    "\n",
    "\n",
    "for i in range(1, 5):\n",
    "    print(f(i, 3))"
   ]
  }
 ],
 "metadata": {
  "kernelspec": {
   "display_name": "Python 3",
   "language": "python",
   "name": "python3"
  },
  "language_info": {
   "codemirror_mode": {
    "name": "ipython",
    "version": 3
   },
   "file_extension": ".py",
   "mimetype": "text/x-python",
   "name": "python",
   "nbconvert_exporter": "python",
   "pygments_lexer": "ipython3",
   "version": "3.12.6"
  },
  "orig_nbformat": 4
 },
 "nbformat": 4,
 "nbformat_minor": 2
}
